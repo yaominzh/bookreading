{
 "cells": [
  {
   "cell_type": "code",
   "execution_count": null,
   "metadata": {
    "collapsed": true
   },
   "outputs": [],
   "source": []
  },
  {
   "cell_type": "markdown",
   "source": [
    "## chap3.5 通用函数\n",
    "求 $$y=x^n$$, 其中x为底数，n为指数的函数，当n不变，x为自变量时为幂函数\n",
    "当n为自变量，x不变时为指数函数\n",
    "\n",
    "双曲函数由指数函数经有理去算可导出双曲函数。在数学中\n",
    "\n",
    "### 方差公式Variance\n",
    "\n",
    "$$V=\\frac{\\sum_{i=1}^N{(x_i-x)^2}}{N}$$\n",
    "\n",
    "### 标准差Standard Variance\n",
    "$$S = \\sqrt{V}$$"
   ],
   "metadata": {
    "collapsed": false
   }
  }
 ],
 "metadata": {
  "kernelspec": {
   "display_name": "Python 3",
   "language": "python",
   "name": "python3"
  },
  "language_info": {
   "codemirror_mode": {
    "name": "ipython",
    "version": 2
   },
   "file_extension": ".py",
   "mimetype": "text/x-python",
   "name": "python",
   "nbconvert_exporter": "python",
   "pygments_lexer": "ipython2",
   "version": "2.7.6"
  }
 },
 "nbformat": 4,
 "nbformat_minor": 0
}