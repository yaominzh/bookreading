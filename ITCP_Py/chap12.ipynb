{
 "cells": [
  {
   "cell_type": "markdown",
   "metadata": {
    "collapsed": true,
    "pycharm": {
     "name": "#%% md\n"
    }
   },
   "source": [
    "最优化问题提供了一种结构化的方法，可以解决很多计算问题.解决问题时，如果涉及求最 大、最小、最多、最少、最快、最低价格等情况，那么你就非常有可能将这个问题转换为一个典 型的最优化问题，从而使用已知的计算方法进行解决。\n",
    "\n",
    "最优化问题通常包括两部分。\n",
    "目标函数：需要最大化或最小化的值。\n",
    "约束条件集合（可以为空）：必须满足的条件集合\n",
    "\n",
    "# 12.1 背包问题\n",
    "\n",
    "找出近似解的最简单方法就是贪婪算法\n",
    "\n",
    "对于这个数据集，尽管按照密度（价值与重量的比值）进行贪婪恰好得到了最优结果，但相 对于按照重量或价值进行贪婪的算法来说，我们不能保证按照密度贪婪的算法一直能得到更好的 解。更普遍地说，对于这种背包问题，无法确保使用贪婪算法找出的解是最优解\n",
    "\n",
    "\n"
   ]
  },
  {
   "cell_type": "code",
   "execution_count": null,
   "outputs": [],
   "source": [],
   "metadata": {
    "collapsed": false,
    "pycharm": {
     "name": "#%%\n"
    }
   }
  },
  {
   "cell_type": "markdown",
   "source": [
    "假设我们认为近似解还不够好，那就需要找出这个问题的最优解决方案。这种解称为最优解， 没错，因为我们解决的是最优化问题。窃贼面临的问题恰好就是一种典型的最优化问题，称为0/1 背包问题\n",
    "\n",
    "贪婪算法的本质是在每一步都做出当 前情况下最优（按照某种测量方式的定义）的选择，即它的选择是局部最优的。但正如这个例子 所示，一系列局部最优决策不一定会得出全局最优的解决方案。\n"
   ],
   "metadata": {
    "collapsed": false
   }
  },
  {
   "cell_type": "code",
   "execution_count": null,
   "outputs": [],
   "source": [],
   "metadata": {
    "collapsed": false,
    "pycharm": {
     "name": "#%%\n"
    }
   }
  },
  {
   "cell_type": "markdown",
   "source": [
    "图是由边连接起来的节点对象的集合，边也可称为弧，节点也可称为顶点。如果边是单向\n",
    "的，则图称为有向图。在有向图中，从节点n1到n2有一条边，我们就称n1为源节点或父节点， n2\n",
    "为目标节点或子节点。\n",
    "\n",
    "图在数学中第一\n",
    "次有记载的应用是在1735年，瑞士数学家莱昂哈德·欧拉使用后来被称为图论的方法描述并解决\n",
    "了著名的哥尼斯堡七桥问题\n",
    "\n",
    "欧拉具有非凡的洞察力，他将这个问题进行了极大的简化：可以将每块单独的陆地或岛看作\n",
    "一个点（即节点），将每座桥看作连接两个点的一条线（即边）。\n",
    "\n",
    "欧拉证明，如果想一次性遍历每座桥且每座桥只走一次，那么必须满足：\n",
    "行走过程中间的每个节点（也就是行走过程中既走入又走出的岛屿，不包括起点和终点）必须被\n",
    "偶数条边相连。\n"
   ],
   "metadata": {
    "collapsed": false
   }
  },
  {
   "cell_type": "code",
   "execution_count": null,
   "outputs": [],
   "source": [
    "class NOde():\n",
    "    def __init__(self,name):\n",
    "        self.name = name\n",
    "    def getName(self):\n",
    "        return self.name\n",
    "    def __str__(self):\n",
    "        return self.name\n",
    "\n",
    "class Edge():\n",
    "    def __init__(self, src, dest):\n",
    "        self.src = src\n",
    "        self.dest = dest\n",
    "    def getSource(self):\n",
    "        return self.src\n",
    "    def getDestination(self):\n",
    "        return self.dest\n",
    "    def __str__(self):\n",
    "        return self.src.getName() + '->' + self.dest.getName()\n",
    "\n",
    "class WeightedEdge(Edge):\n",
    "    def __init__(self,src, dest, weight = 1.0):\n",
    "        self.src = src\n",
    "        self.dest = dest\n",
    "        self.weight = weight\n",
    "    def getWeight(self):\n",
    "        return self.weight\n",
    "    def __str__(self):\n",
    "        return self.src.getName() + '->(' + str(self.weight) + ')' \\\n",
    "    + self.dest.getName\n",
    "\n",
    "\n"
   ],
   "metadata": {
    "collapsed": false,
    "pycharm": {
     "name": "#%%\n"
    }
   }
  },
  {
   "cell_type": "markdown",
   "source": [
    "专门为节点建立一个类似乎有些过分了，毕竟， Node类中没有一种方法能够执行有价值的计\n",
    "算。我们引入这个类仅是为了提供一种灵活性，也许在以后某些时候可能引入一个具有附加属性\n",
    "的Node子类\n",
    "专门为节点建立一个类似乎有些过分了，毕竟， Node类中没有一种方法能够执行有价值的计\n",
    "算。我们引入这个类仅是为了提供一种灵活性，也许在以后某些时候可能引入一个具有附加属性\n",
    "的Node子类\n",
    "另一种常用的表示方法是使用邻接表"
   ],
   "metadata": {
    "collapsed": false
   }
  },
  {
   "cell_type": "code",
   "execution_count": null,
   "outputs": [],
   "source": [
    "class Digraph():\n",
    "    def __init__(self):\n",
    "        self.nodes=[]\n",
    "        self.edges={}\n",
    "    def addNode(self,node):\n",
    "        if node in self.nodes:\n",
    "            raise ValueError('Duplicte node')\n",
    "        else:\n",
    "            self.nodes.append(node)\n",
    "            self.edges[node]=[]\n",
    "    def addEdge(self,edge):\n",
    "        src = edge.getSource()\n"
   ],
   "metadata": {
    "collapsed": false,
    "pycharm": {
     "name": "#%%\n"
    }
   }
  },
  {
   "cell_type": "markdown",
   "source": [
    "以下是一些最著名的图的最优化问题。\n",
    "- 最短路径：对于两个节点n1和n2，找到边<s___n___, d___n___>（源节点和目标节点）\n",
    "的最短序列，使得：\n",
    "    * 第一条边的源节点是n1；\n",
    "    * 最后一条边的目标节点是n2；\n",
    "    * 对于序列中任意的边e1和e2，如果e2在序列中紧跟在e1后面，那么e2的源节点是e1的目\n",
    "标节点。\n",
    "- 最短加权路径：与最短路径非常相似，但它的目标不是找出连接两个节点的最短的边的 序列。对于序列中边的权重，我们会定义某种函数（比如权重的和），并使这个函数的值 最小化。 Google Maps计算两点之间的最短驾驶距离时，就是在解决这种问题。\n",
    "- 最大团： 团是一个节点集合，集合中每两个节点之间都有一条边。 ①最大团是一个图中规 模最大的团。\n",
    "- 最小割：在一个图中，给定两个节点集合， 割就是一个边的集合。去掉这组边之后，一 个节点集合中的每个节点和另一个节点集合中的每个节点之间都不存在任何相连的路 径。最小割就是这样一个最小的边的集合。\n",
    "\n",
    "1990年，剧作家约翰·奎尔创作了《六度分离》，这部戏剧基于一个不怎么令人信服的前\n",
    "提：“这个星球上的所有人之间只隔着六个人。\n",
    "朋友关系（至少在Facebook上）是对称的\n",
    "DFS函数实现的算法是递归形式的深度优先搜索算法。"
   ],
   "metadata": {
    "collapsed": false
   }
  },
  {
   "cell_type": "code",
   "execution_count": null,
   "outputs": [],
   "source": [
    "def printPath(path):\n",
    "    result = ''\n",
    "    for i in range(len(path)):\n",
    "        result = result + str(path[i])\n",
    "        if i != len(path) -1:\n",
    "            result = result + '->'\n",
    "        return result\n",
    "\n",
    "def DFS(graph, start, end, path, shortest, toPrint = False):\n",
    "    path = path + [start]\n",
    "    if toPrint:\n",
    "        print('Current DFS path:', printPath(path))\n",
    "    if start == end:\n",
    "        return path\n",
    "    for node in graph.childrenOf(start):\n",
    "        if node not in path:\n",
    "            if shortest ==None or len(path) <len(shortest):\n",
    "                newPath = DFS(graph, node, end, path, shortest, toPrint)\n",
    "                if newPath != None:\n",
    "                    shortest = newPath\n",
    "    return shortest\n",
    "\n",
    "def shortestPath(graph, start, end, toPrint=False):\n",
    "    return DFS(graph, start, end,[], None, toPrint)\n",
    "\n",
    "def testSP():\n",
    "    nodes=[]\n",
    "    for name in range(6):\n",
    "        nodes.append(Node(str(name)))\n",
    "        g = Digraph()"
   ],
   "metadata": {
    "collapsed": false,
    "pycharm": {
     "name": "#%%\n"
    }
   }
  },
  {
   "cell_type": "markdown",
   "source": [],
   "metadata": {
    "collapsed": false
   }
  },
  {
   "cell_type": "code",
   "execution_count": null,
   "outputs": [],
   "source": [],
   "metadata": {
    "collapsed": false,
    "pycharm": {
     "name": "#%%\n"
    }
   }
  },
  {
   "cell_type": "markdown",
   "source": [
    "\n"
   ],
   "metadata": {
    "collapsed": false
   }
  }
 ],
 "metadata": {
  "kernelspec": {
   "display_name": "Python 3",
   "language": "python",
   "name": "python3"
  },
  "language_info": {
   "codemirror_mode": {
    "name": "ipython",
    "version": 2
   },
   "file_extension": ".py",
   "mimetype": "text/x-python",
   "name": "python",
   "nbconvert_exporter": "python",
   "pygments_lexer": "ipython2",
   "version": "2.7.6"
  }
 },
 "nbformat": 4,
 "nbformat_minor": 0
}