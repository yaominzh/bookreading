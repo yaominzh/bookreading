{
 "cells": [
  {
   "cell_type": "markdown",
   "metadata": {
    "collapsed": true,
    "pycharm": {
     "name": "#%% md\n"
    }
   },
   "source": [
    "最优化问题提供了一种结构化的方法，可以解决很多计算问题.解决问题时，如果涉及求最 大、最小、最多、最少、最快、最低价格等情况，那么你就非常有可能将这个问题转换为一个典 型的最优化问题，从而使用已知的计算方法进行解决。\n",
    "The notion of an optimization problem provides a structured way to think about solving lots of computational problems\n",
    "最优化问题通常包括两部分。\n",
    "In general, an optimization problem has two parts:\n",
    "目标函数：需要最大化或最小化的值。An objective function that is to be maximized or minimized.\n",
    "约束条件集合（可以为空）：必须满足的条件集合A set of constraints (possibly empty) that must be honored\n",
    "\n",
    "# 12.1 背包问题 Knapsack Problems\n",
    "\n",
    "找出近似解的最简单方法就是贪婪算法\n",
    "The simplest way to find an approximate solution to this problem is to use a\n",
    "greedy algorithm\n",
    "对于这个数据集，尽管按照密度（价值与重量的比值）进行贪婪恰好得到了最优结果，但相 对于按照重量或价值进行贪婪的算法来说，我们不能保证按照密度贪婪的算法一直能得到更好的 解。更普遍地说，对于这种背包问题，无法确保使用贪婪算法找出的解是最优解\n",
    "Though greedy-by-density (value-to-weight ratio) happens to yield the best result for this data set, there is no guarantee that a greedy-by-density algorithm always finds a better solution than greedy by weight or value. More generally, there is no guarantee that any solution to this kind of knapsack problem that is found by a greedy algorithm will be optimal.74 We will discuss this issue in more detail a bit late\n",
    "\n"
   ]
  },
  {
   "cell_type": "code",
   "execution_count": null,
   "outputs": [],
   "source": [],
   "metadata": {
    "collapsed": false,
    "pycharm": {
     "name": "#%%\n"
    }
   }
  },
  {
   "cell_type": "markdown",
   "source": [
    "假设我们认为近似解还不够好，那就需要找出这个问题的最优解决方案。这种解称为最优解， 没错，因为我们解决的是最优化问题。窃贼面临的问题恰好就是一种典型的最优化问题，称为0/1 背包问题\n",
    "Suppose we decide that an approximation is not good enough, i.e., we want the best possible solution to this problem. Such a solution is called optimal, not surprising since we are solving an optimization problem. As it happens, the problem confronting our burglar is an instance of a classic optimization problem, called the 0/1 knapsack problem. The 0/1 knapsack problem can be formalized as follows:\n",
    "- Each item is represented by a pair, <value, weight>.\n",
    "- The knapsack can accommodate items with a total weight of no more than w.\n",
    "- A vector, I, of length n, represents the set of available items. Each element of the vector is an item.\n",
    "- A vector, V, of length n, is used to indicate whether or not each item is taken by the burglar. If V[i] = 1, item I[i] is taken. If V[i] = 0, item I[i] is not taken.\n",
    "- Find a V that maximizes $$\\sum_{i=0}^{n-1}V[i]*I[i].value$$的值最大,并满足以下约束条件:$$\\sum_{i=0}^{n-1}V[i]*I[i].weight\\leq \\mathbb{w}$$\n",
    "贪婪算法的本质是在每一步都做出当 前情况下最优（按照某种测量方式的定义）的选择，即它的选择是局部最优的。但正如这个例子 所示，一系列局部最优决策不一定会得出全局最优的解决方案。\n",
    "The essence of a greedy algorithm is making the best (as defined by some metric) local choice at each step. It makes a choice that is locally optimal. However, as this example illustrates, a series of locally optimal decisions does not always lead to a solution that is globally optimal.\n",
    "\n",
    "There is a variant of the knapsack problem, called the\n",
    "fractional (or continuous) knapsack problem, for which\n",
    "a greedy algorithm is guaranteed to find an optimal\n",
    "solution"
   ],
   "metadata": {
    "collapsed": false
   }
  },
  {
   "cell_type": "code",
   "execution_count": null,
   "outputs": [],
   "source": [],
   "metadata": {
    "collapsed": false,
    "pycharm": {
     "name": "#%%\n"
    }
   }
  },
  {
   "cell_type": "markdown",
   "source": [
    "图是由边连接起来的节点对象的集合，边也可称为弧，节点也可称为顶点。如果边是单向\n",
    "的，则图称为有向图。在有向图中，从节点n1到n2有一条边，我们就称n1为源节点或父节点， n2\n",
    "为目标节点或子节点。\n",
    "A graph78 is a set of objects called nodes (or vertices)\n",
    "connected by a set of edges (or arcs). If the edges are\n",
    "unidirectional the graph is called a directed graph or\n",
    "digraph. In a directed graph, if there is an edge from n1 to\n",
    "n2, we refer to n1 as the source or parent node and n2 as\n",
    "the destination or child node\n",
    "\n",
    "图在数学中第一 次有记载的应用是在1735年，瑞士数学家莱昂哈德·欧拉使用后来被称为图论的方法描述并解决 了著名的哥尼斯堡七桥问题\n",
    "The first documented use of graphs in mathematics was in 1735 when the Swiss mathematician Leonhard Euler used what has come to be known as graph theory to formulate and solve the Königsberg bridges problem\n",
    "欧拉具有非凡的洞察力，他将这个问题进行了极大的简化：可以将每块单独的陆地或岛看作 一个点（即节点），将每座桥看作连接两个点的一条线（即边）。\n",
    "Euler’s great insight was that the problem could be vastly simplified by viewing each separate landmass as a point (think “node”) and each bridge as a line (think “edge”) connecting two of these points.\n",
    "欧拉证明，如果想一次性遍历每座桥且每座桥只走一次，那么必须满足： 行走过程中间的每个节点（也就是行走过程中既走入又走出的岛屿，不包括起点和终点）必须被 偶数条边相连。\n",
    " Euler then reasoned that if a walk were to traverse each edge exactly once, it must be the case that each node in the middle of the walk (i.e., any island that is both entered and exited during the walk) must be connected by an even number of edges."
   ],
   "metadata": {
    "collapsed": false
   }
  },
  {
   "cell_type": "code",
   "execution_count": null,
   "outputs": [],
   "source": [
    "class Node():\n",
    "    def __init__(self,name):\n",
    "        self.name = name\n",
    "    def getName(self):\n",
    "        return self.name\n",
    "    def __str__(self):\n",
    "        return self.name\n",
    "\n",
    "class Edge():\n",
    "    def __init__(self, src, dest):\n",
    "        self.src = src\n",
    "        self.dest = dest\n",
    "    def getSource(self):\n",
    "        return self.src\n",
    "    def getDestination(self):\n",
    "        return self.dest\n",
    "    def __str__(self):\n",
    "        return self.src.getName() + '->' + self.dest.getName()\n",
    "\n",
    "class WeightedEdge(Edge):\n",
    "    def __init__(self,src, dest, weight = 1.0):\n",
    "        self.src = src\n",
    "        self.dest = dest\n",
    "        self.weight = weight\n",
    "    def getWeight(self):\n",
    "        return self.weight\n",
    "    def __str__(self):\n",
    "        return self.src.getName() + '->(' + str(self.weight) + ')' \\\n",
    "    + self.dest.getName\n",
    "\n",
    "\n"
   ],
   "metadata": {
    "collapsed": false,
    "pycharm": {
     "name": "#%%\n"
    }
   }
  },
  {
   "cell_type": "markdown",
   "source": [
    "专门为节点建立一个类似乎有些过分了，毕竟， Node类中没有一种方法能够执行有价值的计 算。我们引入这个类仅是为了提供一种灵活性，也许在以后某些时候可能引入一个具有附加属性 的Node子类\n",
    "Having a class for nodes may seem like overkill. After all, none of the methods in class Node perform any interesting computation. We introduced the class merely to give us the flexibility of deciding, perhaps at some later\n",
    "另一种常用的表示方法是使用邻接表\n",
    " One common representation is an n × n adjacency matrix, where n is the number of nodes in the graph. Another common representation is an adjacency list, which we use here."
   ],
   "metadata": {
    "collapsed": false
   }
  },
  {
   "cell_type": "code",
   "execution_count": null,
   "outputs": [],
   "source": [
    "class Digraph():\n",
    "    def __init__(self):\n",
    "        self.nodes=[]\n",
    "        self.edges={}\n",
    "    def addNode(self,node):\n",
    "        if node in self.nodes:\n",
    "            raise ValueError('Duplicte node')\n",
    "        else:\n",
    "            self.nodes.append(node)\n",
    "            self.edges[node]=[]\n",
    "    def addEdge(self,edge):\n",
    "        src = edge.getSource()\n"
   ],
   "metadata": {
    "collapsed": false,
    "pycharm": {
     "name": "#%%\n"
    }
   }
  },
  {
   "cell_type": "markdown",
   "source": [
    "以下是一些最著名的图的最优化问题。\n",
    "Some of the best-known graph optimization problems are\n",
    "- 最短路径：对于两个节点n1和n2，找到边<s___n___, d___n___>（源节点和目标节点）\n",
    "的最短序列，使得：\n",
    "    * 第一条边的源节点是n1；\n",
    "    * 最后一条边的目标节点是n2；\n",
    "    * 对于序列中任意的边e1和e2，如果e2在序列中紧跟在e1后面，那么e2的源节点是e1的目\n",
    "标节点。\n",
    "- 最短加权路径：与最短路径非常相似，但它的目标不是找出连接两个节点的最短的边的 序列。对于序列中边的权重，我们会定义某种函数（比如权重的和），并使这个函数的值 最小化。 Google Maps计算两点之间的最短驾驶距离时，就是在解决这种问题。\n",
    "- 最大团： 团是一个节点集合，集合中每两个节点之间都有一条边。 ①最大团是一个图中规 模最大的团。\n",
    "- 最小割：在一个图中，给定两个节点集合， 割就是一个边的集合。去掉这组边之后，一 个节点集合中的每个节点和另一个节点集合中的每个节点之间都不存在任何相连的路 径。最小割就是这样一个最小的边的集合。\n",
    "- Shortest path. For some pair of nodes, n1 and n2, find the shortest sequence of edges <sn, dn> (source node and destination node), such that\n",
    "    * The source node in the first edge is n1\n",
    "    * The destination node of the last edge is n2\n",
    "    * For all edges e1 and e2 in the sequence, if e2 follows e1 in the sequence, the source node of e2 is the destination node of e1.\n",
    "- Shortest weighted path. This is like the shortest path, except instead of choosing the shortest sequence of edges that connects two nodes, we define some function on the weights of the edges in the sequence (e.g., their sum) and minimize that value. This is the kind of problem solved by Google Maps when asked to compute driving directions between two points.\n",
    "- Maximum clique. A clique is a set of nodes such that there is an edge between each pair of nodes in the set. A maximum clique is a clique of the largest size in a graph.\n",
    "- Min cut. Given two sets of nodes in a graph, a cut is a set of edges whose removal eliminates all paths from\n",
    "each node in one set to each node in the other. The minimum cut is the smallest set of edges whose removal accomplishes this.\n",
    "\n",
    "1990年，剧作家约翰·奎尔创作了《六度分离》，这部戏剧基于一个不怎么令人信服的前 提：“这个星球上的所有人之间只隔着六个人。\n",
    "In 1990 the playwright John Guare wrote Six Degrees of Separation. The dubious premise underlying the play is that “everybody on this planet is separated by only six other people.”\n",
    "朋友关系（至少在Facebook上）是对称的\n",
    "The friend relation (at least on Facebook) is symmetric\n",
    "\n",
    "DFS函数实现的算法是递归形式的深度优先搜索算法。\n",
    "The algorithm implemented by DFS is an example of a recursive depth-first-search (DFS) algorithm.In general, a depth-first-search algorithm begins by choosing one child of the start node. It then chooses one child of that node and so on, going deeper and deeper until it either reaches the goal node or a node with no children. The search then backtracks, returning to the most recent node with children that it has not yet visited. When all paths have been explored, it chooses the shortest path (assuming that there is one) from the start to the goal."
   ],
   "metadata": {
    "collapsed": false
   }
  },
  {
   "cell_type": "code",
   "execution_count": null,
   "outputs": [],
   "source": [
    "def printPath(path):\n",
    "    result = ''\n",
    "    for i in range(len(path)):\n",
    "        result = result + str(path[i])\n",
    "        if i != len(path) -1:\n",
    "            result = result + '->'\n",
    "        return result\n",
    "\n",
    "def DFS(graph, start, end, path, shortest, toPrint = False):\n",
    "    path = path + [start]\n",
    "    if toPrint:\n",
    "        print('Current DFS path:', printPath(path))\n",
    "    if start == end:\n",
    "        return path\n",
    "    for node in graph.childrenOf(start):\n",
    "        if node not in path:\n",
    "            if shortest ==None or len(path) <len(shortest):\n",
    "                newPath = DFS(graph, node, end, path, shortest, toPrint)\n",
    "                if newPath != None:\n",
    "                    shortest = newPath\n",
    "    return shortest\n",
    "\n",
    "def shortestPath(graph, start, end, toPrint=False):\n",
    "    return DFS(graph, start, end,[], None, toPrint)\n",
    "\n",
    "def testSP():\n",
    "    nodes=[]\n",
    "    for name in range(6):\n",
    "        nodes.append(Node(str(name)))\n",
    "    g = Digraph()\n",
    "    for n in nodes:\n",
    "        g.addNode(n)\n",
    "    g.addEdge(Edge(nodes[0],nodes[1]))\n",
    "    g.addEdge(Edge(nodes[1],nodes[2]))\n",
    "    g.addEdge(Edge(nodes[2],nodes[3]))\n",
    "    g.addEdge(Edge(nodes[2],nodes[4]))\n",
    "    g.addEdge(Edge(nodes[3],nodes[4]))\n",
    "    g.addEdge(Edge(nodes[3],nodes[5]))\n",
    "    g.addEdge(Edge(nodes[0],nodes[2]))\n",
    "    g.addEdge(Edge(nodes[1],nodes[0]))\n",
    "    g.addEdge(Edge(nodes[3],nodes[1]))\n",
    "    g.addEdge(Edge(nodes[4],nodes[0]))\n",
    "    sp = shortestPath(g, nodes[0], nodes[5], toPrint = True)\n",
    "    print('Shortest path is ', printPath(sp))\n",
    "\n",
    "    sp2 = BFS(g,nodes[0], nodes[5])\n",
    "    print('Shortest path found by BFS:', printPath(sp2))\n"
   ],
   "metadata": {
    "collapsed": false,
    "pycharm": {
     "name": "#%%\n"
    }
   }
  },
  {
   "cell_type": "markdown",
   "source": [
    "另一种常用的方法称为广度优先搜 索。广度优先搜索会先访问起始节点的所有子节点，如果这些子节点都不是最终节点，就继续访 问每个子节点的所有子节点，\n",
    "Of course, there are other ways to traverse a graph than\n",
    "depth-first. Another common approach is breadth-first\n",
    "search (BFS). In a breadth-first traversal one first visits all\n",
    "children of the start node. If none of those is the end node,\n",
    "one visits all children of each of those nodes. And so on.\n",
    "Unlike depth-first search, which is usually implemented\n",
    "recursively, breadth-first search is usually implemented\n",
    "iteratively. BFS explores many paths simultaneously,\n",
    "adding one node to each path on each iteration. Since it\n",
    "generates the paths in ascending order of length, the first\n",
    "path found with the goal as its last node is guaranteed to\n",
    "have a minimum number of edges\n",
    "\n"
   ],
   "metadata": {
    "collapsed": false
   }
  },
  {
   "cell_type": "code",
   "execution_count": 2,
   "outputs": [],
   "source": [
    "def BFS(graph, start, end, toPrint=False):\n",
    "    initPath = [start]\n",
    "    pathQueue= [initPath]\n",
    "    if toPrint:\n",
    "        print('Current BFS path: ', printPath(path))\n",
    "    while len(pathQueue) != 0:\n",
    "        tmpPath = pathQueue.pop(0)\n",
    "        print('current BSF path: ', printPath(tmpPath))\n",
    "        lastNode = tmpPath[-1]\n",
    "        if lastNode == end:\n",
    "            return tmpPath\n",
    "        for nextNode in graph.childrenOf(lastNode):\n",
    "            if nextNode not in tmpPath:\n",
    "                newPath = tmpPath + [nextNode]\n",
    "                pathQueue.append(newPath)\n",
    "        return None\n",
    "\n",
    "\n"
   ],
   "metadata": {
    "collapsed": false,
    "pycharm": {
     "name": "#%%\n"
    }
   }
  },
  {
   "cell_type": "markdown",
   "source": [
    "As mentioned above, BFS is a convenient way to search\n",
    "for a path with the fewest edges because the first time a\n",
    "path is found, it is guaranteed to be such a path"
   ],
   "metadata": {
    "collapsed": false
   }
  },
  {
   "cell_type": "code",
   "execution_count": null,
   "outputs": [],
   "source": [
    "\n"
   ],
   "metadata": {
    "collapsed": false,
    "pycharm": {
     "name": "#%%\n"
    }
   }
  }
 ],
 "metadata": {
  "kernelspec": {
   "name": "pycharm-6751522a",
   "language": "python",
   "display_name": "PyCharm (bookreading)"
  },
  "language_info": {
   "codemirror_mode": {
    "name": "ipython",
    "version": 2
   },
   "file_extension": ".py",
   "mimetype": "text/x-python",
   "name": "python",
   "nbconvert_exporter": "python",
   "pygments_lexer": "ipython2",
   "version": "2.7.6"
  }
 },
 "nbformat": 4,
 "nbformat_minor": 0
}