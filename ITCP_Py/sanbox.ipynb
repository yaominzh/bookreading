{
 "cells": [
  {
   "cell_type": "code",
   "execution_count": 1,
   "metadata": {
    "collapsed": true
   },
   "outputs": [],
   "source": [
    "import matplotlib.pyplot as plt\n",
    "import numpy as np # dodamo še numerično knjižico\n",
    "# get_ipython().run_line_magic('matplotlib', 'inline')\n",
    "\n",
    "\n",
    "def complex_plane2(z,axis_type=0):\n",
    "    \"\"\"Creates complex plane and shows complex numbers as vectors (complexors)\n",
    "\n",
    "    Parameters\n",
    "    ----------\n",
    "    z : array of complex values\n",
    "        array of complex values to be shown\n",
    "    axis_type : int\n",
    "        three types of shapes of complex plane:\n",
    "        0 : symple\n",
    "        1 : with grid\n",
    "        2 : moved axis to middle\n",
    "    -----------------------------------\n",
    "    # Example\n",
    "    z=[20+10j,15,-10-10j,5+15j]\n",
    "    complex_plane2(z,2) \"\"\"\n",
    "\n",
    "    w=max(np.abs(z))\n",
    "    fig, ax = plt.subplots()\n",
    "\n",
    "    if axis_type==0:\n",
    "        plt.axis(\"off\")\n",
    "        plt.text(-0.15*w, 0.8*w, \"Im\", fontsize=14)\n",
    "        plt.text( 0.8*w,-0.15*w, \"Re\", fontsize=14)\n",
    "    elif axis_type==1:\n",
    "        plt.axis(\"on\")\n",
    "        plt.grid()\n",
    "        plt.text(-0.15*w, 0.8*w, \"Im\", fontsize=14)\n",
    "        plt.text( 0.8*w,-0.15*w, \"Re\", fontsize=14)\n",
    "    else:\n",
    "         # Move left y-axis and bottim x-axis to centre, passing through (0,0)\n",
    "        ax.spines['left'].set_position('center')\n",
    "        ax.spines['bottom'].set_position('center')\n",
    "\n",
    "        # Eliminate upper and right axes\n",
    "        ax.spines['right'].set_color('none')\n",
    "        ax.spines['top'].set_color('none')\n",
    "\n",
    "        # Show ticks in the left and lower axes only\n",
    "        ax.xaxis.set_ticks_position('bottom')\n",
    "        ax.yaxis.set_ticks_position('left')\n",
    "\n",
    "        ax.set_xlabel('                                                 Re []')\n",
    "        ax.set_ylabel('                                                 Im []')\n",
    "\n",
    "    plt.xlim(-w,w)\n",
    "    plt.ylim(-w,w)\n",
    "    plt.arrow(0, -w, 0, 1.9*w, head_width=w/20, head_length=w/20, fc='k', ec='k');\n",
    "    plt.arrow(-w, 0, 1.9*w, 0, head_width=w/20, head_length=w/20, fc='k', ec='k');\n",
    "\n",
    "    for i in range(len(z)):\n",
    "        fi_a=np.angle(z[i])\n",
    "        x=z[i].real -abs(w)/20*np.cos(fi_a)\n",
    "        y=z[i].imag-abs(w)/20*np.sin(fi_a)\n",
    "        plt.arrow(0, 0, x, y, head_width=w/20, head_length=w/20, fc='b', ec='b');\n",
    "    plt.show()"
   ]
  },
  {
   "cell_type": "code",
   "execution_count": 2,
   "outputs": [
    {
     "data": {
      "text/plain": "<Figure size 432x288 with 1 Axes>",
      "image/png": "[encoded data removed]"
     },
     "metadata": {
      "needs_background": "light"
     },
     "output_type": "display_data"
    }
   ],
   "source": [
    "z=[20+10j,15,-10-10j,5+15j]\n",
    "complex_plane2(z,2)"
   ],
   "metadata": {
    "collapsed": false,
    "pycharm": {
     "name": "#%%\n"
    }
   }
  },
  {
   "cell_type": "markdown",
   "source": [],
   "metadata": {
    "collapsed": false
   }
  },
  {
   "cell_type": "code",
   "execution_count": 3,
   "outputs": [
    {
     "name": "stdout",
     "output_type": "stream",
     "text": [
      "Populating the interactive namespace from numpy and matplotlib\n"
     ]
    }
   ],
   "source": [
    "%pylab inline\n",
    "\n"
   ],
   "metadata": {
    "collapsed": false,
    "pycharm": {
     "name": "#%%\n"
    }
   }
  },
  {
   "cell_type": "code",
   "execution_count": null,
   "outputs": [],
   "source": [],
   "metadata": {
    "collapsed": false,
    "pycharm": {
     "name": "#%%\n"
    }
   }
  }
 ],
 "metadata": {
  "kernelspec": {
   "display_name": "Python 3",
   "language": "python",
   "name": "python3"
  },
  "language_info": {
   "codemirror_mode": {
    "name": "ipython",
    "version": 2
   },
   "file_extension": ".py",
   "mimetype": "text/x-python",
   "name": "python",
   "nbconvert_exporter": "python",
   "pygments_lexer": "ipython2",
   "version": "2.7.6"
  }
 },
 "nbformat": 4,
 "nbformat_minor": 0
}