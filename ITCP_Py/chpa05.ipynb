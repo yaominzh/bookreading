{
 "cells": [
  {
   "cell_type": "markdown",
   "metadata": {
    "collapsed": true,
    "pycharm": {
     "name": "#%% md\n"
    }
   },
   "source": [
    "数值类型int和float是标量类型\n",
    "我们可以认为str 是一种结构化的、非标量的类型\n",
    "The numeric types int and float are scalar types. That is to say, objects of these types have no accessible internal structure. In contrast, str can be thought of as a structured, or non-scalar, type.\n",
    "\n",
    "## 5.1 元组 Tuples\n",
    "tuple类型的字面量形式是位于小括号之中的由逗号隔开的一组元素\n",
    "Literals of type tuple are written by enclosing a comma-separated list of elements within parentheses.\n",
    "\n",
    "## 5.3 列表与可变性 Lists and Mutability\n",
    "与元组类似， 列表也是值的有序序列，每个值都可以由索引进行标识\n",
    "Literals of type tuple are written by enclosing a comma-separated list of elements within parentheses.\n",
    "\n",
    "列表与元组相比有一个特别重要的区别：列表是可变的，而元组和字符串是不可变的。\n",
    "Lists differ from tuples in one hugely important way: lists are mutable. In contrast, tuples and strings are immutable.\n",
    "\n",
    "列表推导式提供了一种简洁的方式，将某种操作应用到序列中的一个值上。它会创建一个新列表\n",
    "List comprehension provides a concise way to apply an operation to the values in a sequence."
   ]
  },
  {
   "cell_type": "code",
   "execution_count": 1,
   "outputs": [
    {
     "name": "stdout",
     "output_type": "stream",
     "text": [
      "[1, 4, 9, 16, 25, 36]\n"
     ]
    }
   ],
   "source": [
    "L = [x**2 for x in range(1,7)]\n",
    "print(L)"
   ],
   "metadata": {
    "collapsed": false,
    "pycharm": {
     "name": "#%%\n"
    }
   }
  },
  {
   "cell_type": "markdown",
   "source": [
    "## 5.4 函数对象\n",
    "在Python中，函数是一等对象。\n",
    "In Python, functions are first-class objects\n",
    "\n",
    "使用函数作为实参可以实现一种名为高阶编程的编码方式，这种方式与列表结合使用非常方便.\n",
    "Using functions as arguments allows a style of coding called higher-order programming. It can be particularly convenient in conjunction with lists"
   ],
   "metadata": {
    "collapsed": false
   }
  },
  {
   "cell_type": "code",
   "execution_count": 3,
   "outputs": [
    {
     "name": "stdout",
     "output_type": "stream",
     "text": [
      "L =  [1, -2, 3.33]\n",
      "apply abs to each element of L\n",
      "L =  [1, 2, 3.33]\n"
     ]
    }
   ],
   "source": [
    "def applyToEach(L,f):\n",
    "    \"\"\"假设L是列表，f是函数\"\"\"\n",
    "    for i in range(len(L)):\n",
    "        L[i] = f(L[i])\n",
    "\n",
    "L = [1, -2, 3.33]\n",
    "print('L = ',L)\n",
    "print('apply abs to each element of L')\n",
    "applyToEach(L,abs)\n",
    "print('L = ',L)\n"
   ],
   "metadata": {
    "collapsed": false,
    "pycharm": {
     "name": "#%%\n"
    }
   }
  },
  {
   "cell_type": "markdown",
   "source": [
    "Python中有一个内置的高阶函数map， map函数被设计为与for循环结合使用。在map函数的最简形式中，第一个参数是个一元函数\n",
    "Python has a built-in higher-order function, map, that is similar to, but more general than, the applyToEach function. it is designed to be used in conjunction with a for loop. In its simplest form the first argument to map is a unary function\n",
    "\n",
    "更一般的形式是， map的第一个参数可以是具有n个参数的函数，在这种情况下，它后面必须跟随着n个有序集合（这些集合的长度都一样）。\n",
    "More generally, the first argument to map can be a function of n arguments, in which case it must be followed by n subsequent ordered collections (each of the same length)\n",
    "\n",
    "Python还支持创建匿名函数（即没有绑定名称的函数），这时要使用保留字lambda。 Lambda 表达式的一般形式\n",
    "Python supports the creation of anonymous functions (i.e., functions that are not bound to a name), using the reserved word lambda. The general form of a lambda expression is\n",
    "\n",
    "lambda <sequence of variable names>: <expression>"
   ],
   "metadata": {
    "collapsed": false,
    "pycharm": {
     "name": "#%% md\n"
    }
   }
  },
  {
   "cell_type": "code",
   "execution_count": 2,
   "outputs": [
    {
     "name": "stdout",
     "output_type": "stream",
     "text": [
      "[1, 4, 3, 1]\n"
     ]
    }
   ],
   "source": [
    "L = []\n",
    "for i in map(lambda x, y: x**y, [1,2,3,4],[3,2,1,0]):\n",
    "    L.append(i)\n",
    "print(L)\n"
   ],
   "metadata": {
    "collapsed": false,
    "pycharm": {
     "name": "#%%\n"
    }
   }
  },
  {
   "cell_type": "markdown",
   "source": [
    "四种不同的序列类型： str、 tuple、 range和list\n",
    "We have looked at four different sequence types: str, tuple, range, and list\n",
    "\n",
    "操作 | 说明\n",
    "--- | ---\n",
    "seq[i]| 返回序列中的第i个元素。\n",
    "len(sep)| 返回序列长度。\n",
    "seq1 + seq2| 返回两个序列的连接（不适用于range）。\n",
    "n*seq| 返回一个重复了n次seq的序列。\n",
    "seq[start:end]| 返回序列的一个切片。\n",
    "e in seq| 如果序列包含e，则返回True，否则返回False。\n",
    "e not in seq| 如果序列不包含e，则返回True，否则返回False。\n",
    "for e in seq| 遍历序列中的元素。\n",
    "\n",
    "不同点\n",
    "类型|元素类型|字面量示例|是否可变\n",
    "--- | --- | --- | ---\n",
    "str|字符型|''、'a'、'abc'|否\n",
    "tuple|任意类型|()、(3,)、('abc',4)|否\n",
    "range|整型|range(10)、range(1,10,2)|否\n",
    "list|任意类型|[]、[3]、['abc',4]|是"
   ],
   "metadata": {
    "collapsed": false
   }
  },
  {
   "cell_type": "markdown",
   "source": [
    "split是比较重要的内置方法之一，它使用两个字符串作为参数。\n",
    "One of the more useful built-in methods is split, which takes two strings as arguments. The second argument specifies a separator that is used to split the first argument into a sequence of substrings. \n",
    "\n",
    "## 5.6 字典 Dictionaries\n",
    "字典（ dict， dictionary的缩写）类型的对象与列表很相似，区别在于字典使用键对其中的值进行引用，可以将字典看作一个键/值对的集合。\n",
    "Objects of type dict (short for dictionary) are like lists except that we index them using keys. Think of a dictionary as a set of key/value pairs.\n",
    "\n",
    "dict中的项目是无序的，不能通过索引引用。\n",
    "The entries in a dict are unordered and cannot be accessed with an index. \n",
    "\n",
    "字典是Python最强大的功能之一，它可以大大降低编程的难度\n",
    "Dictionaries are one of the great things about Python.\n",
    "\n",
    "内置实现则非常快，它使用的技术称为散列，搜索时间几乎与字典大小无关\n",
    "In contrast, the built-in implementation is quite fast. It uses a technique called hashing, described in Chapter 10, to do the lookup in time that is nearly independent of the size of the dictionary"
   ],
   "metadata": {
    "collapsed": false
   }
  }
 ],
 "metadata": {
  "kernelspec": {
   "display_name": "Python 3",
   "language": "python",
   "name": "python3"
  },
  "language_info": {
   "codemirror_mode": {
    "name": "ipython",
    "version": 2
   },
   "file_extension": ".py",
   "mimetype": "text/x-python",
   "name": "python",
   "nbconvert_exporter": "python",
   "pygments_lexer": "ipython2",
   "version": "2.7.6"
  }
 },
 "nbformat": 4,
 "nbformat_minor": 0
}