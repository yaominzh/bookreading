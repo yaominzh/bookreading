{
 "cells": [
  {
   "cell_type": "markdown",
   "metadata": {
    "collapsed": true,
    "pycharm": {
     "name": "#%% md\n"
    }
   },
   "source": [
    "## content\n",
    "[chap01 Getting Started](chap01.ipynb)\n",
    "\n",
    "\n"
   ]
  },
  {
   "cell_type": "markdown",
   "source": [
    "计算机能且只能做两件事，执行计算与保存计算结果，但它把这两件事都做到了极致。\n",
    "A computer does two things, and two things only: it performs calculations and it remembers the results of those calculations\n",
    "\n",
    "陈述性知识由对事实的描述组成\n",
    "Declarative knowledge is composed of statements of fact.\n",
    "\n",
    "程序性知识说明“如何做”，描述的是信息演绎的过程。\n",
    "Imperative knowledge is “how to” knowledge, or recipes for deducing information.\n",
    "\n",
    "算法是一个有穷指令序列，描述了这样一种计算过程，即在给定的输入集合中执行时，会按照一系列定义明确的状态进行，最终产生一个输出结果。\n",
    "A bit more formally, an algorithm is a finite list of instructions that describe a computation that when executed on a set of inputs will proceed through a set of well-defined states and eventually produce an output.\n",
    "\n",
    "1936年，英国数学家阿兰·图灵提出了一种抽象的计算设备，后来称为通用图灵机。\n",
    "In 1936, the British mathematician Alan Turing described a hypothetical computing device that has come to be called a Universal Turing Machine\n",
    "\n",
    "邱奇-图灵论题表明，如果一个函数是可计算的，那么一定可以通过对图灵机进行编程实现这种计算\n",
    " The **Church-Turing thesis** states that if a function is computable, a Turing Machine can be programmed to\n",
    "compute it.\n",
    "\n",
    "图灵就曾经证明，不存在这样一个程序：对于给定的任意程序P，当且仅当P永远运行时输出true。 这就是著名的停机问题。\n",
    " Turing showed, for example, that it is impossible to write a program that given an arbitrary program, call it P, prints true if and only if P will run forever. This is known as the halting problem\n",
    "\n",
    "邱奇-图灵论题可以直接推导出图灵完备性这个概念。如果一门编程语言可以模拟通用图灵机，才可以说它是图灵完备的。所有现代编程语言都是图灵完备的。因此，任何可以被一门编程语言（例如Python）实现的程序，都可以被另一门编程语言（例如Java）实现。\n",
    "The Church-Turing thesis leads directly to the notion of Turing completeness. A programming language is said to be Turing complete if it can be used to simulate a universal Turing Machine. All modern programming languages are Turing complete. As a consequence, anything that can be programmed in one programming language (e.g., Python) can be programmed in any other programming language (e.g., Java). \n",
    "\n",
    "每种编程语言都有基本结构、语法、静态语义和语义。如果用一门自然语言类比，例如英语， 那么基本结构就是单词，语法则用来描述哪些单词放在一起可以组成通顺的句子，静态语义定义了哪些句子是有意义的，语义则定义了句子的实际含义。 Python语言中的基本结构包括字面量（例如，数值3.2和字符串'abc'）和中缀操作符（例如， +和/）。\n",
    "Each programming language has a set of primitive constructs, a syntax, a static semantics, and a semantics. By analogy with a natural language, e.g., English, the primitive constructs are words, the syntax describes which strings of words constitute well-formed sentences, the static semantics defines which sentences are meaningful, and the semantics defines the meaning of those sentences. The primitive constructs in Python include literals (e.g., the number 3.2 and the string 'abc') and infix operators (e.g., + and /)."
   ],
   "metadata": {
    "collapsed": false
   }
  }
 ],
 "metadata": {
  "kernelspec": {
   "display_name": "Python 2",
   "language": "python",
   "name": "python2"
  },
  "language_info": {
   "codemirror_mode": {
    "name": "ipython",
    "version": 2
   },
   "file_extension": ".py",
   "mimetype": "text/x-python",
   "name": "python",
   "nbconvert_exporter": "python",
   "pygments_lexer": "ipython2",
   "version": "2.7.6"
  }
 },
 "nbformat": 4,
 "nbformat_minor": 0
}