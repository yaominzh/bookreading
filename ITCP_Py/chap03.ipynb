{
 "cells": [
  {
   "cell_type": "markdown",
   "metadata": {
    "collapsed": true,
    "pycharm": {
     "name": "#%% md\n"
    }
   },
   "source": [
    "## 3.1 穷举法\n",
    "这个程序使用的算法技术称为穷举法，是猜测与检验算法的一个变种。我们枚举所有可能\n",
    "性，直至得到正确答案或者尝试完所有值。乍看上去，这是一种极其愚蠢的解决方法。但令人\n",
    "惊奇的是，穷举法经常是解决问题的最实用的方法。它实现起来特别容易，并且易于理解。还\n",
    "有，在很多情况下，它的运行速度也足够快。\n"
   ]
  },
  {
   "cell_type": "code",
   "execution_count": 1,
   "outputs": [
    {
     "name": "stdout",
     "output_type": "stream",
     "text": [
      "cube root of  27 is 3\n"
     ]
    }
   ],
   "source": [
    "x = int(input('Enter an integer:'))\n",
    "ans = 0\n",
    "while ans**3 < abs(x):\n",
    "    ans = ans + 1\n",
    "\n",
    "if ans**3 != abs(x):\n",
    "    print(x, 'is not a perfect cube')\n",
    "else:\n",
    "    if x < 0:\n",
    "        ans = -ans\n",
    "    print('cube root of ', x, 'is' , ans)"
   ],
   "metadata": {
    "collapsed": false,
    "pycharm": {
     "name": "#%%\n"
    }
   }
  },
  {
   "cell_type": "markdown",
   "source": [
    "## 3.3 近似解和二分查找\n",
    "穷举法是一种查找技术，只在被查找集合中包含答案时才有效。\n",
    "\n"
   ],
   "metadata": {
    "collapsed": false
   }
  },
  {
   "cell_type": "code",
   "execution_count": 2,
   "outputs": [
    {
     "name": "stdout",
     "output_type": "stream",
     "text": [
      "numGuesses =  49990\n",
      "4.999000000001688 is close to square root of  25\n"
     ]
    }
   ],
   "source": [
    "x = 25\n",
    "epsilon = 0.01\n",
    "step = epsilon**2\n",
    "numGuess = 0\n",
    "ans = 0.0\n",
    "while abs(ans**2 -x)>= epsilon and ans <= x:\n",
    "    ans += step\n",
    "    numGuess +=1\n",
    "print('numGuesses = ', numGuess)\n",
    "if abs(ans**2 -x )>= epsilon:\n",
    "    print('Failed on square root of', x)\n",
    "else:\n",
    "    print(ans, 'is close to square root of ', x)\n"
   ],
   "metadata": {
    "collapsed": false,
    "pycharm": {
     "name": "#%%\n"
    }
   }
  },
  {
   "cell_type": "markdown",
   "source": [
    "更重要的是，我们发现每经过一次循环迭代，待查找空间都缩小了一半。因为这种算法每一\n",
    "步都将查找空间分为两部分，所以称为二分查找。二分查找是对前面算法的一个重大改进，之前\n",
    "的算法只能在每次迭代后将查找空间缩小一部分\n",
    "\n"
   ],
   "metadata": {
    "collapsed": false
   }
  },
  {
   "cell_type": "code",
   "execution_count": 3,
   "outputs": [
    {
     "name": "stdout",
     "output_type": "stream",
     "text": [
      "low= 0.0 high = 25 ans= 12.5\n",
      "low= 0.0 high = 12.5 ans= 6.25\n",
      "low= 0.0 high = 6.25 ans= 3.125\n",
      "low= 3.125 high = 6.25 ans= 4.6875\n",
      "low= 4.6875 high = 6.25 ans= 5.46875\n",
      "low= 4.6875 high = 5.46875 ans= 5.078125\n",
      "low= 4.6875 high = 5.078125 ans= 4.8828125\n",
      "low= 4.8828125 high = 5.078125 ans= 4.98046875\n",
      "low= 4.98046875 high = 5.078125 ans= 5.029296875\n",
      "low= 4.98046875 high = 5.029296875 ans= 5.0048828125\n",
      "low= 4.98046875 high = 5.0048828125 ans= 4.99267578125\n",
      "low= 4.99267578125 high = 5.0048828125 ans= 4.998779296875\n",
      "low= 4.998779296875 high = 5.0048828125 ans= 5.0018310546875\n",
      "numGuess =  13\n",
      "5.00030517578125 is close to square root of 25\n"
     ]
    }
   ],
   "source": [
    "x = 25\n",
    "epsilon = 0.01\n",
    "numGuess = 0\n",
    "low = 0.0\n",
    "high = max(1.0,x)\n",
    "ans = (high + low )/2.0\n",
    "while abs(ans**2 -x )>= epsilon:\n",
    "    print('low=', low, 'high =', high, 'ans=', ans)\n",
    "    numGuess +=1\n",
    "    if ans**2<x:\n",
    "        low = ans\n",
    "    else:\n",
    "        high = ans\n",
    "    ans = (high + low)/2.0\n",
    "print('numGuess = ', numGuess)\n",
    "print(ans, 'is close to square root of', x)\n"
   ],
   "metadata": {
    "collapsed": false,
    "pycharm": {
     "name": "#%%\n"
    }
   }
  },
  {
   "cell_type": "code",
   "execution_count": 5,
   "outputs": [
    {
     "ename": "UnboundLocalError",
     "evalue": "local variable 'high' referenced before assignment",
     "output_type": "error",
     "traceback": [
      "\u001B[0;31m---------------------------------------------------------------------------\u001B[0m",
      "\u001B[0;31mUnboundLocalError\u001B[0m                         Traceback (most recent call last)",
      "\u001B[0;32m<ipython-input-5-935f684a3b9f>\u001B[0m in \u001B[0;36m<module>\u001B[0;34m\u001B[0m\n\u001B[1;32m     16\u001B[0m     \u001B[0mprint\u001B[0m\u001B[0;34m(\u001B[0m\u001B[0mans\u001B[0m\u001B[0;34m,\u001B[0m \u001B[0;34m'is close to square root of'\u001B[0m\u001B[0;34m,\u001B[0m \u001B[0mx\u001B[0m\u001B[0;34m)\u001B[0m\u001B[0;34m\u001B[0m\u001B[0;34m\u001B[0m\u001B[0m\n\u001B[1;32m     17\u001B[0m \u001B[0;32mfor\u001B[0m \u001B[0mi\u001B[0m \u001B[0;32min\u001B[0m \u001B[0mrange\u001B[0m\u001B[0;34m(\u001B[0m\u001B[0;36m1\u001B[0m\u001B[0;34m,\u001B[0m \u001B[0;36m16\u001B[0m\u001B[0;34m)\u001B[0m\u001B[0;34m:\u001B[0m\u001B[0;34m\u001B[0m\u001B[0;34m\u001B[0m\u001B[0m\n\u001B[0;32m---> 18\u001B[0;31m     \u001B[0msqrt_long\u001B[0m\u001B[0;34m(\u001B[0m\u001B[0mi\u001B[0m\u001B[0;34m)\u001B[0m\u001B[0;34m\u001B[0m\u001B[0;34m\u001B[0m\u001B[0m\n\u001B[0m",
      "\u001B[0;32m<ipython-input-5-935f684a3b9f>\u001B[0m in \u001B[0;36msqrt_long\u001B[0;34m(x)\u001B[0m\n\u001B[1;32m      6\u001B[0m     \u001B[0mans\u001B[0m \u001B[0;34m=\u001B[0m \u001B[0;34m(\u001B[0m\u001B[0mx\u001B[0m \u001B[0;34m+\u001B[0m \u001B[0mlow\u001B[0m\u001B[0;34m)\u001B[0m\u001B[0;34m//\u001B[0m\u001B[0;36m2\u001B[0m\u001B[0;34m\u001B[0m\u001B[0;34m\u001B[0m\u001B[0m\n\u001B[1;32m      7\u001B[0m     \u001B[0;32mwhile\u001B[0m \u001B[0mabs\u001B[0m\u001B[0;34m(\u001B[0m\u001B[0mans\u001B[0m\u001B[0;34m**\u001B[0m\u001B[0;36m2\u001B[0m \u001B[0;34m-\u001B[0m\u001B[0mx\u001B[0m\u001B[0;34m)\u001B[0m \u001B[0;34m>=\u001B[0m \u001B[0mepsilon\u001B[0m\u001B[0;34m:\u001B[0m\u001B[0;34m\u001B[0m\u001B[0;34m\u001B[0m\u001B[0m\n\u001B[0;32m----> 8\u001B[0;31m         \u001B[0mprint\u001B[0m\u001B[0;34m(\u001B[0m\u001B[0;34m'low='\u001B[0m\u001B[0;34m,\u001B[0m \u001B[0mlow\u001B[0m\u001B[0;34m,\u001B[0m \u001B[0;34m'high='\u001B[0m\u001B[0;34m,\u001B[0m \u001B[0mhigh\u001B[0m\u001B[0;34m,\u001B[0m \u001B[0;34m'ans='\u001B[0m\u001B[0;34m,\u001B[0m \u001B[0mans\u001B[0m\u001B[0;34m)\u001B[0m\u001B[0;34m\u001B[0m\u001B[0;34m\u001B[0m\u001B[0m\n\u001B[0m\u001B[1;32m      9\u001B[0m         \u001B[0mnumGuess\u001B[0m \u001B[0;34m+=\u001B[0m\u001B[0;36m1\u001B[0m\u001B[0;34m\u001B[0m\u001B[0;34m\u001B[0m\u001B[0m\n\u001B[1;32m     10\u001B[0m         \u001B[0;32mif\u001B[0m \u001B[0mans\u001B[0m\u001B[0;34m**\u001B[0m\u001B[0;36m2\u001B[0m \u001B[0;34m<\u001B[0m \u001B[0mx\u001B[0m\u001B[0;34m:\u001B[0m\u001B[0;34m\u001B[0m\u001B[0;34m\u001B[0m\u001B[0m\n",
      "\u001B[0;31mUnboundLocalError\u001B[0m: local variable 'high' referenced before assignment"
     ]
    }
   ],
   "source": [
    "def sqrt_long(x):\n",
    "    \"\"\" input: Integer\n",
    "        return: Integer\n",
    "    \"\"\"\n",
    "    epsilon = 1\n",
    "    numGuess = 0\n",
    "    # x = 25\n",
    "    low = 1\n",
    "    high = x\n",
    "    ans = (high + low)//2\n",
    "    while abs(ans**2 -x) >= epsilon and numGuess <= x:\n",
    "        print('low=', low, 'high=', high, 'ans=', ans)\n",
    "        numGuess +=1\n",
    "        if ans**2 < x:\n",
    "            low = ans\n",
    "        else:\n",
    "            high = ans\n",
    "        ans = (high + low)//2\n",
    "    print('numGuess = ', numGuess)\n",
    "    print(ans, 'is close to square root of', x)\n",
    "for i in range(1, 16):\n",
    "    sqrt_long(i)"
   ],
   "metadata": {
    "collapsed": false,
    "pycharm": {
     "name": "#%%\n"
    }
   }
  }
 ],
 "metadata": {
  "kernelspec": {
   "display_name": "Python 3",
   "language": "python",
   "name": "python3"
  },
  "language_info": {
   "codemirror_mode": {
    "name": "ipython",
    "version": 2
   },
   "file_extension": ".py",
   "mimetype": "text/x-python",
   "name": "python",
   "nbconvert_exporter": "python",
   "pygments_lexer": "ipython2",
   "version": "2.7.6"
  }
 },
 "nbformat": 4,
 "nbformat_minor": 0
}