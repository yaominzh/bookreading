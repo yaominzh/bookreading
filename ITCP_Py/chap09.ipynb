{
 "cells": [
  {
   "cell_type": "markdown",
   "metadata": {
    "collapsed": true,
    "pycharm": {
     "name": "#%% md\n"
    }
   },
   "source": [
    "设计与开发程序时，我们需要考虑的最重要的一点就是，程序的结果必须正确。  \n",
    "The most important thing to think about when designing and implementing a program is that it should produce results that can be relied upon.  \n",
    "结果经常就是，程序员努力地减少了计算复杂度， 却增加了概念复杂度。为了以合理的方式提高程序效率，我们应该知道如何估计一个程序的计算 复杂度  \n",
    "Consequently, programmers often increase the conceptual complexity of a program in an effort to reduce its computational complexity. To do this in a sensible way, we need to understand how to go about estimating the computational complexity of a program.  \n",
    "# 9.1 思考计算复杂度 Thingking about computational complexity\n",
    "\n",
    "一般而言，我们需要考虑三种常见的情形。\n",
    "In general, there are three broad cases to think about:  \n",
    "- 最佳情形运行时间是在输入最有利的情况下算法的运行时间。 The best-case running time is the running time of the algorithm when the inputs are as favorable as possible.  \n",
    "- 最差情形运行时间是在给定输入规模的情况下最长的运行时间。the worst-case running time is the maximum running time over all the possible inputs of a given size.\n",
    "- 平均情形（也被称为期望情形）运行时间是在给定输入规模的情况下的平均运行时间。 By analogy with the definitions of the best-case and worst-case running time, the average-case (also called expected-case) running time is the average running time over all possible inputs of a given size.\n",
    "所有工程师都相信墨菲定律：如果事情可能出错，那它就一定会 出错\n",
    "All engineers share a common article of faith, Murphy’s Law: If something can go wrong, it will go wrong. The worst-case provides an upper bound on the running time.\n",
    "\n",
    "对于一个搜索引擎来说，执行一次搜索需要0.5秒还是2.5秒可能就决定了人们\n",
    "会使用这个搜索引擎，还是转向它的竞争对手  \n",
    "Whether a search engine takes a half second or 2.5 seconds to service a query can be the difference between whether people use that search engine or go to a competitor.\n",
    "# 9.2 渐近表示法 Asymptotic Notation\n",
    "\n",
    "# 9.3 一些重要的复杂度 Some Important Complexity Classes\n",
    "\n",
    "\n",
    "下面列出了一些最常用的大O表示法实例。 n表示函数的输入规模。\n",
    "\n",
    "符号 | 表示\n",
    "--- | ---\n",
    "O(1) | 表示常数运行时间。\n",
    "O(logn) | 表示对数运行时间。\n",
    "O(n) | 表示线性运行时间。\n",
    "O(nlogn) | 表示对数线性运行时间。\n",
    "O($$n^k$$) | 表示多项式运行时间，注意k是常数。\n",
    "O($$c^n$$) | 表示指数运行时间，这时常数c为底数，复杂度为c的n次方\n",
    "\n",
    "instance  | denotion\n",
    "--- | ---\n",
    "O(1) | denotes constant running time.\n",
    "O(log n)|  denotes logarithmic running time.\n",
    "O(n) | denotes linear running time.\n",
    "O(n log n) | denotes log-linear running time.\n",
    "O($$n^k$$) | denotes polynomial running time. Notice that k is a constant.\n",
    "O($$c^n$$) | denotes exponential running time.\n",
    "\n",
    "最常见的多项式算法复杂度是平方复杂度\n",
    "The most commonly used polynomial algorithms are quadratic\n",
    "\n",
    "\n",
    "\n",
    "\n",
    "\n",
    "\n",
    "\n"
   ]
  }
 ],
 "metadata": {
  "kernelspec": {
   "display_name": "Python 3",
   "language": "python",
   "name": "python3"
  },
  "language_info": {
   "codemirror_mode": {
    "name": "ipython",
    "version": 2
   },
   "file_extension": ".py",
   "mimetype": "text/x-python",
   "name": "python",
   "nbconvert_exporter": "python",
   "pygments_lexer": "ipython2",
   "version": "2.7.6"
  }
 },
 "nbformat": 4,
 "nbformat_minor": 0
}