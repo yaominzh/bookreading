{
 "cells": [
  {
   "cell_type": "markdown",
   "metadata": {
    "collapsed": true,
    "pycharm": {
     "name": "#%% md\n"
    }
   },
   "source": [
    "# 7.1 处理异常\n",
    "异常看上去不太友好（毕竟，如果不处理，异常会使程序崩溃），但总好于其他处理方式\n",
    "Exceptions may seem unfriendly (after all, if not handled, an exception will cause the program to crash), but consider the alternative\n",
    "\n",
    "Python语言中的assert语句为程序员提供了一种确保程序状态符合预期的简单方法\n",
    "The Python assert statement provides programmers with a simple way to confirm that the state of a computation is as expected. \n",
    "\n",
    "断言是一种非常有用的防御性编程工具，可以用来确保函数参数具有恰当的类型。\n",
    "Assertions are a useful defensive programming tool\n"
   ]
  }
 ],
 "metadata": {
  "kernelspec": {
   "display_name": "Python 3",
   "language": "python",
   "name": "python3"
  },
  "language_info": {
   "codemirror_mode": {
    "name": "ipython",
    "version": 2
   },
   "file_extension": ".py",
   "mimetype": "text/x-python",
   "name": "python",
   "nbconvert_exporter": "python",
   "pygments_lexer": "ipython2",
   "version": "2.7.6"
  }
 },
 "nbformat": 4,
 "nbformat_minor": 0
}