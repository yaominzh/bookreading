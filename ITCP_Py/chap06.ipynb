{
 "cells": [
  {
   "cell_type": "markdown",
   "metadata": {
    "collapsed": true,
    "pycharm": {
     "name": "#%% md\n"
    }
   },
   "source": [
    "测试指通过运行程序以确定它是否按照预期工作。 调试则指修复已知的未按预期工作的\n",
    "程序。\n",
    "Testing is the process of running a program to try and ascertain whether or not it works as intended. Debugging is the process of trying to fix a program that you already know does not work as intended.\n",
    "测试和调试不是你编写完程序之后才开始考虑的问题，优秀的程序员在设计程序时，就已经 开始考虑如何使程序易于测试和调试了。关键就是将程序分解成独立的部件，可以在不受其他部 件影响的情况下实现、测试和调试。\n",
    "Testing and debugging are not processes that you should begin to think about after a program has been built. Good programmers design their programs in ways that make them easier to test and debug. The key to doing this is breaking the program up into separate components that can be implemented, tested, and debugged independently of other components.\n",
    "\n",
    "## 6.1 测试 Testing\n",
    "关于测试，最重要的是清楚它的目的是证明错误的存在，而不是证明程序没有错误\n",
    "Testing and debugging are not processes that you should begin to think about after a program has been built. Good programmers design their programs in ways that make them easier to test and debug. The key to doing this is breaking the program up into separate components that can be implemented, tested, and debugged independently of other components.\n",
    "测试桩应该具有以下功能：\n",
    "Ideally, a stub should\n",
    "- 检查调用者提供的环境和参数是否合理（使用不恰当的参数调用函数是很常见的错误）； Check the reasonableness of the environment and arguments supplied by the caller (calling a function with inappropriate arguments is a common error),\n",
    "- 修改实参和全局变量，使它们符合规范；Modify arguments and global variables in a manner consistent with the specification, and\n",
    "- 返回与规范一致的值Return values consistent with the specification\n",
    "\n",
    "## 6.2 调试\n",
    "显性的和持续性的错误是最好的情况\n",
    "The best kinds of bugs to have are overt and persistent\n",
    "\n",
    "更重要的是如何接近问题。很多经验丰富的程序员甚至根本不用调试工具。多数程序\n",
    "员认为最重要的调试工具是print语句。\n",
    "What’s much more important is how you approach the problem. Many experienced programmers don’t even bother with debugging tools. Most programmers say that the most important debugging tool is the print statement\n",
    "调试就是搜索程序异常行为原因的过程。保持良好调试能力的关键就是系统化地执行这个搜索过程。\n",
    "What’s much more important is how you approach the problem. Many experienced programmers don’t even bother with debugging tools. Most programmers say that the most important debugging tool is the print statement\n",
    " - 调试从研究现有数据开始，这些数据包括测试结果和程序文本Start by studying the available data. This includes the test results and the program text.\n",
    " - 然后，建立一个符合所有现有数据的假设。Next, form a hypothesis that you believe to be consistent with all the data\n",
    " - 接下来，设计并运行一个能够推翻上述假设的可重复实验Next, form a hypothesis that you believe to be consistent with all the data\n",
    " - 最后，要将你的实验过程记录下来，这一点非常重要。Finally, it’s important to keep a record of what experiments you have tried\n",
    "\n",
    " 非常愚蠢的人会一遍又一遍地重复同样的事情，却期待不同的结果insanity is doing the same thing, over and over again, but expecting different results\n",
    "\n",
    "艰难之路，唯勇者行。\n",
    "Joseph P. Kennedy, father of U.S. President John F. Kennedy, reputedly instructed his children, “When the going gets tough, the tough get going.”\n",
    "\n",
    " - 排除常见错误。例如，看看你是否犯了以下错误：\n",
    "    * 以错误的顺序向函数传递实参；\n",
    "    * 拼错一个名称，如将大写字母写成小写；\n",
    "    * 变量重新初始化失败；\n",
    "    * 检验两个浮点数是否相等（ ==），而不是近似相等（请记住，浮点数的运算与学校里学的运算不一样）；\n",
    "    * 在应该检验对象相等（如id(L1) == id(L2)）的时候，检验值相等（例如，使用表达 式 L1 == L2比较两个列表）；\n",
    "    * 忘记了一些内置函数具有副作用；\n",
    "    * 忘记使用()将对function类型对象的引用转换为函数调用；\n",
    "    * 意外地创建了一个别名；\n",
    "    * 其他一些你常犯的错误。\n",
    " - 不要问自己为什么程序没有按照你的想法去做，而要问自己程序为什么像现在这样做。 后者应该更容易回答，要想弄清楚如何修复程序，这可能是一个很好的开始。\n",
    " - 记住，错误可能不在你认为会出错的地方。如果在那里，你早就应该发现它了。确定错 误位置的一种实用方法是，看看那些你认为不会出错的地方。就像夏洛克·福尔摩斯所 说：“排除所有其他因素，最后剩下来的一定就是真相。” ②\n",
    " - 试着向其他人解释程序的问题。每个人都会有盲点。经常有这样的情况，试图向别人解 释问题的时候，你会突然发现自己忽略的地方。向其他人解释为什么程序中某个地方不 会出现错误是个很好的选择。\n",
    " - 不要盲目相信任何书面上的东西。特别是，不要相信文档。代码行为可能与注释不一样。\n",
    " - 暂停调试，开始编写文档。这会帮助你从不同视角接近问题所在。\n",
    " - 出去散散步，明天接着做。这可能意味着与你坚持工作相比，修复问题的时间要晚一些， 但花费的总时间会大大减少。也就是说，我们使用时间上的一点延迟换取了效率上的大 幅提升。（同学们，开始习题集中的编程练习吧，宁早勿晚，这是个绝好的理由！）\n",
    " - Look for the usual suspects. E.g., have you\n",
    "    * Passed arguments to a function in the wrong order,\n",
    "    * Misspelled a name, e.g., typed a lowercase letter when you should have typed an uppercase one,\n",
    "    * Failed to reinitialize a variable,\n",
    "    * Tested that two floating point values are equal (==) instead of nearly equal (remember that floating point arithmetic is not the same as the arithmetic you learned in school),\n",
    "    * Tested for value equality (e.g., compared two lists by writing the expression L1 == L2) when you meant object equality (e.g., id(L1) == id(L2)),\n",
    "    * Forgotten that some built-in function has a side effect,\n",
    "    * Forgotten the () that turns a reference to an object of type function into a function invocation,\n",
    "    * Created an unintentional alias, or\n",
    "    * Made any other mistake that is typical for you.\n",
    " - Stop asking yourself why the program isn’t doing what you want it to.\n",
    " - Instead, ask yourself why it is doing what it is. That should be an easier question to answer, and will probably be a good first step in figuring out how to fix the program.\n",
    " - Keep in mind that the bug is probably not where you think it is. If it were, you would probably have found it long ago. One practical way to go about deciding where to look is asking where the bug cannot be. As Sherlock Holmes said, “Eliminate all other factors, and the one which remains must be the truth.”\n",
    " - Try to explain the problem to somebody else. We all develop blind spots. It is often the case that merely attempting to explain the problem to someone will lead you to see things you have missed. A good thing to try to explain is why the bug cannot be in certain places.\n",
    " - Don’t believe everything you read. In particular, don’t believe the documentation. The code may not be doing what the comments suggest.\n",
    " - Stop debugging and start writing documentation. This will help you approach the problem from a different perspective.\n",
    " - Walk away, and try again tomorrow. This may mean that bug is fixed later in time than if you had stuck with it, but you will probably spend a lot less of your time looking for it. That is, it is possible to trade latency for efficiency. (Students, this is an excellent reason to start work on\n",
    "programming problem sets earlier rather than later!)"
   ]
  }
 ],
 "metadata": {
  "kernelspec": {
   "display_name": "Python 3",
   "language": "python",
   "name": "python3"
  },
  "language_info": {
   "codemirror_mode": {
    "name": "ipython",
    "version": 2
   },
   "file_extension": ".py",
   "mimetype": "text/x-python",
   "name": "python",
   "nbconvert_exporter": "python",
   "pygments_lexer": "ipython2",
   "version": "2.7.6"
  }
 },
 "nbformat": 4,
 "nbformat_minor": 0
}