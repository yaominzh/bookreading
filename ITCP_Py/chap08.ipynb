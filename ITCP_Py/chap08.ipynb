{
 "cells": [
  {
   "cell_type": "markdown",
   "metadata": {
    "collapsed": true,
    "pycharm": {
     "name": "#%% md\n"
    }
   },
   "source": [
    "抽象数据类型是一个由对象以及对象上的操作组成的集合\n",
    "\n",
    "接口建立了一个抽象边界，将程序的其他部 分与实现类型抽象的数据结构、算法和代码隔离开来\n",
    "\n",
    "编程时，要使程序易于修改，以控制程序复杂度。有两种非常强大的编程机制可以完成这个任 务：分解和抽象。分解使程序具有结构，抽象则隐藏细节。抽象的关键是隐藏合适的细节，这就是 数据抽象的根本目标。我们可以为某个领域创建专用的类型，以使抽象更方便\n",
    "\n",
    "类支持两种操作:\n",
    "- 实例化\n",
    "- 属性引用\n",
    "\n",
    "python中有一些特殊的方法名, 这些名称的开头和结尾都是两个下划线\n",
    "\n",
    "`\n",
    "\n",
    "\n",
    "\n",
    "\n",
    "\n",
    "\n"
   ]
  }
 ],
 "metadata": {
  "kernelspec": {
   "display_name": "Python 3",
   "language": "python",
   "name": "python3"
  },
  "language_info": {
   "codemirror_mode": {
    "name": "ipython",
    "version": 2
   },
   "file_extension": ".py",
   "mimetype": "text/x-python",
   "name": "python",
   "nbconvert_exporter": "python",
   "pygments_lexer": "ipython2",
   "version": "2.7.6"
  }
 },
 "nbformat": 4,
 "nbformat_minor": 0
}