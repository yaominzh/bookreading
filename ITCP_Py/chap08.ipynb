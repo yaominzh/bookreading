{
 "cells": [
  {
   "cell_type": "markdown",
   "metadata": {
    "collapsed": true,
    "pycharm": {
     "name": "#%% md\n"
    }
   },
   "source": [
    "We now turn our attention to our last major topic related to programming in Python: using classes to organize programs around modules and data abstractions.\n",
    "\n",
    "\n",
    "# 8.1 抽象数据类型与类\n",
    "\n",
    "抽象数据类型是一个由对象以及对象上的操作组成的集合  \n",
    "An abstract data type is a set of objects and the operations on those objects  \n",
    "接口建立了一个抽象边界，将程序的其他部 分与实现类型抽象的数据结构、算法和代码隔离开来  \n",
    "An abstract data type is a set of objects and the operations on those objects  \n",
    "编程时，要使程序易于修改，以控制程序复杂度。有两种非常强大的编程机制可以完成这个任 务：分解和抽象。分解使程序具有结构，抽象则隐藏细节。抽象的关键是隐藏合适的细节，这就是 数据抽象的根本目标。我们可以为某个领域创建专用的类型，以使抽象更方便  \n",
    "Programming is about managing complexity in a way that facilitates change. There are two powerful mechanisms available for accomplishing this: decomposition and abstraction. Decomposition creates structure in a program, and abstraction suppresses detail. The key is to suppress the appropriate details. This is where data abstraction hits the mark. One can create domain-specific types that provide a convenient abstraction.  \n",
    "\n",
    "类支持两种操作:  \n",
    "Classes support two kinds of operations:  \n",
    "\n",
    "- 实例化Instantiation\n",
    "- 属性引用Attribute references\n",
    "\n",
    "python中有一些特殊的方法名, 这些名称的开头和结尾都是两个下划线  \n",
    "Python has a number of special method names that start and end with two underscores  \n",
    "在本书中，我们会遵照惯例， 使用self作为与这个实参绑定的形参名。 Python程序员普遍遵守这一惯例，我们强烈建议你也这 样做。 \n",
    "Throughout this book, we follow the convention of using self as the name of the formal parameter to which this actual parameter is bound. Python programmers observe this convention almost universally, and we strongly suggest that you use it as well.  \n",
    "表示不变性定义了数据属性中的哪个值对应着类实例的有效表示  \n",
    "The representation invariant defines which values of the data attributes correspond to valid representations of class instances.  \n",
    "我们通过思考认识世界时，依赖的就是抽象。  \n",
    "When we think about the world, we rely on abstractions.  \n",
    "数据抽象鼓励程序设计者以数据对象作为程序设计的中心，而不是以函数为中心。  \n",
    "Data abstraction encourages program designers to focus on the centrality of data objects rather than functions.  \n",
    "\n",
    "> 替换原则The Substitution Principle\n",
    "\n",
    "如果客户代码使用超类实例能够正确运行，那么使用子类实例替换超类实例时， 代码应该也能正确运行\n",
    "If client code works correctly using an instance of the supertype, it should also work correctly when an instance of the subtype is substituted for the instance of the supertype.  \n",
    "# 8.3 封装与信息隐藏 Encapsulation and Information Hiding\n",
    "面向对象编程的核心思想有两个重要概念。第一个就是封装，将数据属性和操作数据属性的 方法打包在一起。  \n",
    "There are two important concepts at the heart of objectoriented programming. The first is the idea of encapsulation. By this we mean the bundling together of data attributes and the methods for operating on them.  \n",
    "第二个重要概念是信息隐藏，这是模块化的关键要素之一。  \n",
    "The second important concept is information hiding. This is one of the keys to modularity  \n",
    "静态语义检查相对较弱是Python的一个缺点，但并不致命。一个训练有素的程序员会自觉遵 守这条合理的规则，即不在类的客户代码中直接访问类的数据属性，就像我们在本书中做的那样。  \n",
    "While this relatively weak static semantic checking is a flaw in Python, it is not a fatal flaw. A disciplined programmer can simply follow the sensible rule of not directly accessing data attributes from outside the class in which they are defined  \n",
    "使用生成器的for循环的第一次迭代开始时，解释器会调用生成器内部代码。运行至第一次 执行yield语句时，生成器返回yield语句中表达式的值。下一次迭代中，生成器紧接着yield语 句继续运行，此时所有局部变量都保持为上次yield语句执行完毕时的值，这次运行仍然到执行 yield语句后结束。重复这个过程，直到所有代码运行完毕或者执行到一个return语句，循环结 束。\n",
    "\n",
    "At the start of the first iteration of a for loop that uses a generator, the generator is invoked and runs until the first time a yield statement is executed, at which point it returns the value of the expression in the yield statement. On the next iteration, the generator resumes execution immediately following the yield, with all local variables bound to the objects to which they were bound when the yield statement was executed, and again runs until a yield statement is executed. It continues to do this until it runs out of code to execute or executes a return statement, at which point the loop is exited."
   ]
  }
 ],
 "metadata": {
  "kernelspec": {
   "display_name": "Python 3",
   "language": "python",
   "name": "python3"
  },
  "language_info": {
   "codemirror_mode": {
    "name": "ipython",
    "version": 2
   },
   "file_extension": ".py",
   "mimetype": "text/x-python",
   "name": "python",
   "nbconvert_exporter": "python",
   "pygments_lexer": "ipython2",
   "version": "2.7.6"
  }
 },
 "nbformat": 4,
 "nbformat_minor": 0
}