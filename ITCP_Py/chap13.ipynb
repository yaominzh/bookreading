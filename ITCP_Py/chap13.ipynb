{
 "cells": [
  {
   "cell_type": "markdown",
   "metadata": {
    "collapsed": true,
    "pycharm": {
     "name": "#%% md\n"
    }
   },
   "source": [
    "动态规划由理查德·贝尔曼在20世纪50年代发明。请不要从这项技术的名称中推测任何细 节。正如贝尔曼自己所说，之所以选择“动态规划”这个名称，是为了在申请政府资助基金时隐藏 某些事实，“事实就是我其实是在搞数学……没有一个国会议员会反对的（动态规划这个词）”\n",
    "\n",
    "适用于解决具有重复子问题和最优子结构的问题\n",
    "\n",
    "很容易就能想到，可以将fib函数的第一次调用结果保存下 来，然后在需要的时候直接查找，而不是重新计算。这种方法称为备忘录法，是动态规划的核心 思想\n",
    "\n",
    "函数fastFib中有一个参数 memo，用来记录已经计算过的函数值"
   ]
  },
  {
   "cell_type": "code",
   "source": [
    "def fastFib(n, memo={}):\n",
    "    if n==0 or n==1:\n",
    "        return 1\n",
    "    try:\n",
    "        return memo[n]\n",
    "    except KeyError:\n",
    "        result = fastFib(n-1, memo) + fastFib(n-1, memo)\n",
    "        memo[n] = result\n",
    "        return result\n",
    "\n"
   ],
   "metadata": {
    "collapsed": false,
    "pycharm": {
     "name": "#%%\n"
    }
   },
   "execution_count": null,
   "outputs": []
  },
  {
   "cell_type": "markdown",
   "source": [
    "在第12章中，我们介绍过一种最优化问题，即0/1背包问题。回忆一下，我们还介绍了一种复 杂度为O(nlog(n))的贪婪算法，但这种算法不能保证找到最优解。除此之外，我们还介绍了一种可 以保证找到最优解的暴力算法，但运行时间是指数增长的。最后，我们讨论了这种问题本质上的复 杂度，它与输入规模成指数关系。在最差情形下，需要遍历所有可能的答案才能找出最优解\n",
    "\n",
    "作为推导解决方案的第一步，我们先基于穷举法得到一个指数级别的解法。核心 思想就是构造一个根二叉树，枚举所有满足重量约束的状态，从而探索可行解空间\n",
    "\n",
    "根二叉树是一个无环有向图，其中：\n",
    "- 只有一个没有父节点的节点，称为根；\n",
    "- 每个非根节点都有且只有一个父节点；\n",
    "- 每个节点最多有两个子节点。没有子节点的节点称为叶节点。\n",
    "在0/1背包问题的搜索树中，每个节点都使用一个四元组进行标注，这个四元组表示的是这 种背包问题的一个局部解。四元组中的四个元素如下：\n",
    "- 要带走的物品集合；\n",
    "- 还没有决定是否要带走的物品列表；\n",
    "- 要带走的物品集合中的物品总价值（这个值只是为了优化算法，因为可以从集合中计算 出这个值）；\n",
    "- 背包的剩余空间（这也同样是一种算法优化方式，因为这个值可以通过背包允许的总重\n",
    "量减去当前要带走的物品总重量计算出来）。\n",
    "这个树是从根节点开始，自顶向下地构建出来的\n",
    "\n",
    "种深度优先的树搜索可以顺理成章地使用递 归实现\n",
    "\n"
   ],
   "metadata": {
    "collapsed": false,
    "pycharm": {
     "name": "#%% md\n"
    }
   }
  },
  {
   "cell_type": "code",
   "source": [
    "def maxVal(toConsider, avail):\n",
    "    if toConsider ==[] or avail ==0:\n",
    "        result = (0, ())\n",
    "    elif toConsider[0].getWeight() > avail:\n",
    "        result = maxVal(toConsider[1:],avail)\n",
    "    else:\n",
    "        nextItem= toConsider[0]\n",
    "        withVal, withToTake = maxVal(toConsider[1:], avail - nextItem.getWeight())\n",
    "        withVal += nextItem.getValue()\n",
    "        withoutVal, withoutToTake = maxVal(toConsider[1:], avail)\n",
    "        if withVal > withoutVal:\n",
    "            result = (withVal, withToTake + (nextItem,))\n",
    "        else:\n",
    "            result = (withoutVal, withoutToTake)\n",
    "    return result\n"
   ],
   "metadata": {
    "collapsed": false,
    "pycharm": {
     "name": "#%%\n"
    }
   },
   "execution_count": null,
   "outputs": []
  },
  {
   "cell_type": "markdown",
   "source": [],
   "metadata": {
    "collapsed": false
   }
  },
  {
   "cell_type": "code",
   "execution_count": null,
   "outputs": [],
   "source": [],
   "metadata": {
    "collapsed": false,
    "pycharm": {
     "name": "#%%\n"
    }
   }
  },
  {
   "cell_type": "code",
   "execution_count": null,
   "outputs": [],
   "source": [],
   "metadata": {
    "collapsed": false,
    "pycharm": {
     "name": "#%%\n"
    }
   }
  },
  {
   "cell_type": "markdown",
   "source": [],
   "metadata": {
    "collapsed": false
   }
  },
  {
   "cell_type": "code",
   "execution_count": null,
   "outputs": [],
   "source": [],
   "metadata": {
    "collapsed": false,
    "pycharm": {
     "name": "#%%\n"
    }
   }
  },
  {
   "cell_type": "markdown",
   "source": [
    "\n"
   ],
   "metadata": {
    "collapsed": false
   }
  }
 ],
 "metadata": {
  "kernelspec": {
   "display_name": "Python 3",
   "language": "python",
   "name": "python3"
  },
  "language_info": {
   "codemirror_mode": {
    "name": "ipython",
    "version": 2
   },
   "file_extension": ".py",
   "mimetype": "text/x-python",
   "name": "python",
   "nbconvert_exporter": "python",
   "pygments_lexer": "ipython2",
   "version": "2.7.6"
  }
 },
 "nbformat": 4,
 "nbformat_minor": 0
}