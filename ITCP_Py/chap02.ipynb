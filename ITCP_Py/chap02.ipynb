{
 "cells": [
  {
   "cell_type": "markdown",
   "metadata": {
    "collapsed": true,
    "pycharm": {
     "name": "#%% md\n"
    }
   },
   "source": []
  },
  {
   "cell_type": "markdown",
   "source": [
    "## chap2.1 the basic elements of Python\n",
    "A Python program, sometimes called a script, is a sequence of definitions and commands.\n",
    "\n",
    "A command, often called a statement, instructs the interpreter to do something.\n",
    "类型分为标量和非标量。 标量对象是不可分的，可以把它们视为语言中的原子。 非标量对象，比如字符串，具有内部结构。\n",
    "Types are either scalar or non-scalar. Scalar objects are indivisible. Think of them as the atoms of the language.9 Non-scalar objects, for example strings, have internal structure.\n",
    "\n",
    "In Python, a variable is just a name, nothing more. Remember this—it is important. An assignment statement associates the name to the left of the = symbol with the object denoted by the expression to the right of the =. Remember this too.\n",
    "\n",
    "不管朱丽叶怎么说，名称还是很重要的\n",
    " Despite what Juliet said,names matter.\n",
    " 名字有什么关系？把玫瑰花叫作别的名称，它依然芳香。\n",
    "  “What’s in a name? That which we call a rose by any other name would smell as sweet.”\n",
    "## chap2.2\n",
    "缩进在Python中是具有语义意义的\n",
    "Indentation is semantically meaningful in Python.\n",
    "\n",
    "Python在对缩进的使用上独树一帜。多数其他编程语言使用某种括号表示代码块，如C语言 使用{ }封装代码块。 Python的缩进处理方法的优点是，它确保了程序的外观结构可以准确表达 程序的语义结构。因为缩进在语义上非常重要，所以每行代码的意义都很重要\n",
    "Python is unusual in using indentation this way. Most other programming languages use some sort of bracketing symbols to delineate blocks of code, e.g., C encloses blocks in braces, { }. An advantage of the Python approach is that it ensures that the visual structure of a program is an accurate representation of the semantic structure of that program. Because indentation\n",
    "is semantically important, the notion of a line is important\n",
    "\n",
    "如果一个程序运行的最长时间是由程序长度决定的，那么可以称为以常数时间运行。这并不 意味着它每次运行都执行相同的步骤，而意味着存在一个常数k，使得这个程序肯定会在k个步骤之内结束运行。其中隐含的意义是，这种程序的运行时间并不随着程序输入量的增加而增加。\n",
    "A program for which the maximum running time is bounded by the length of the program is said to run in constant time. This does not mean that each time it is run it executes the same number of steps. It means that there exists a constant, k, such that the program is guaranteed to take no more than k steps to run. This implies that the running time does not grow with the size of the input to the program.\n",
    "\n",
    "## chap2.4 Iteration\n",
    "我们在2.2节末尾得出结论：多数计算任务不能使用分支程序完成。\n",
    "We closed Section 2.2 with the observation that most computational tasks cannot be accomplished using branching programs.\n",
    "\n",
    "这个表格是我们通过对代码的手工模拟得到的。也就是说，我们假装自己是Python解释器，使用铅笔和纸执行程序。使用铅笔和纸看起来颇具古风，但这是弄清楚程序如何运行的一种非常好的方法。\n",
    " We constructed it by hand-simulating the code, i.e., we pretended to be a Python interpreter and executed the program using pencil and paper. Using pencil and paper might seem kind of quaint, but it is an excellent way to understand how a program behaves."
   ],
   "metadata": {
    "collapsed": false
   }
  }
 ],
 "metadata": {
  "kernelspec": {
   "display_name": "Python 2",
   "language": "python",
   "name": "python2"
  },
  "language_info": {
   "codemirror_mode": {
    "name": "ipython",
    "version": 2
   },
   "file_extension": ".py",
   "mimetype": "text/x-python",
   "name": "python",
   "nbconvert_exporter": "python",
   "pygments_lexer": "ipython2",
   "version": "2.7.6"
  }
 },
 "nbformat": 4,
 "nbformat_minor": 0
}