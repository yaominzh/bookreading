{
 "cells": [
  {
   "cell_type": "markdown",
   "metadata": {
    "collapsed": true,
    "pycharm": {
     "name": "#%% md\n"
    }
   },
   "source": [
    "# 5.2 loopcheck\n",
    "## method01 brutal force\n",
    "依次遍历单链表中的每一个节点.每遍历一个新节点,就从头检查新节点之前的所有节点\n",
    "## method02 O(n)\n",
    "set保存遍历过的节点\n",
    "## 两指针\n",
    "类似一个追及问题"
   ]
  },
  {
   "cell_type": "code",
   "execution_count": 3,
   "outputs": [
    {
     "name": "stdout",
     "output_type": "stream",
     "text": [
      "True\n"
     ]
    }
   ],
   "source": [
    "class Node:\n",
    "    def __init__(self,data,next = None):\n",
    "        self.data = data\n",
    "        self.next = next\n",
    "\n",
    "def isCycle(head):\n",
    "    p1 = head\n",
    "    p2 = head\n",
    "    while p2 is not None and p2.next is not None:\n",
    "        p1 = p1.next\n",
    "        p2 = p2.next.next\n",
    "        if p1 == p2:\n",
    "            return True\n",
    "    return False\n",
    "\n",
    "node0=Node(0)\n",
    "node1 = Node(5,Node(3,Node(7,Node(2,Node(2,node0)))))\n",
    "node0.next = node1\n",
    "print(isCycle(node1))\n"
   ],
   "metadata": {
    "collapsed": false,
    "pycharm": {
     "name": "#%%\n"
    }
   }
  },
  {
   "cell_type": "markdown",
   "source": [
    "扩展1:如果链表有环,求环的长度\n",
    "- 让两个指针从相遇点继续循环前进,并统计前进的次数,直到再次相遇.\n",
    "\n",
    "扩展2:如果有环,求入环节点\n",
    "\n",
    "\n",
    "# 5.3 最小栈\n",
    "Pop, push, get_min 要求O(1)\n",
    "设置备胎栈\n",
    "\n"
   ],
   "metadata": {
    "collapsed": false
   }
  },
  {
   "cell_type": "code",
   "execution_count": null,
   "outputs": [],
   "source": [
    "class MinStack:\n",
    "    def __init__(self):\n",
    "        self.main_stack =[]\n",
    "        self.min_stack=[]\n",
    "    def push(self,element):\n",
    "        self.main_stack.append(element)\n",
    "        if len(self.min_stack)==0 or element <= self.min_stack[len(self.min_stack)-1]:\n",
    "            self.min_stack.append(element)\n",
    "    def pop(self):\n",
    "        if self.min_stack[len(self.main_stack)-1] == self.min_stack[len(self.min_stack)-1]:\n",
    "            self.min_stack.pop()\n",
    "        return self.main_stack.pop()\n",
    "\n",
    "    def get_min(self):\n",
    "        if len(self.main_stack)==0:\n",
    "            return None\n",
    "        return self.min_stack[len(self.main_stack)-1]\n",
    "\n",
    "my_stack = MinStack()\n",
    "my_stack.push(4)\n",
    "my_stack.push(9)\n",
    "my_stack.push(7)\n",
    "my_stack.push(3)\n",
    "my_stack.push(8)\n",
    "my_stack.push(5)\n",
    "print(my_stack.get_min())\n",
    "my_stack.pop()\n",
    "my_stack.pop()\n",
    "my_stack.pop()\n",
    "\n",
    "print(my_stack.get_min())"
   ],
   "metadata": {
    "collapsed": false,
    "pycharm": {
     "name": "#%%\n"
    }
   }
  },
  {
   "cell_type": "markdown",
   "source": [
    "# 5.4 gcd\n"
   ],
   "metadata": {
    "collapsed": false
   }
  },
  {
   "cell_type": "code",
   "execution_count": null,
   "outputs": [],
   "source": [],
   "metadata": {
    "collapsed": false,
    "pycharm": {
     "name": "#%%\n"
    }
   }
  },
  {
   "cell_type": "markdown",
   "source": [],
   "metadata": {
    "collapsed": false
   }
  },
  {
   "cell_type": "code",
   "execution_count": null,
   "outputs": [],
   "source": [],
   "metadata": {
    "collapsed": false,
    "pycharm": {
     "name": "#%%\n"
    }
   }
  },
  {
   "cell_type": "markdown",
   "source": [
    "\n"
   ],
   "metadata": {
    "collapsed": false
   }
  }
 ],
 "metadata": {
  "kernelspec": {
   "display_name": "Python 3",
   "language": "python",
   "name": "python3"
  },
  "language_info": {
   "codemirror_mode": {
    "name": "ipython",
    "version": 2
   },
   "file_extension": ".py",
   "mimetype": "text/x-python",
   "name": "python",
   "nbconvert_exporter": "python",
   "pygments_lexer": "ipython2",
   "version": "2.7.6"
  }
 },
 "nbformat": 4,
 "nbformat_minor": 0
}